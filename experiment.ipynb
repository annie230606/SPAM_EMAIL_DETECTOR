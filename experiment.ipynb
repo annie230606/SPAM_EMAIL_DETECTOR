{
 "cells": [
  {
   "cell_type": "code",
   "execution_count": 1,
   "id": "f7736bdf",
   "metadata": {},
   "outputs": [],
   "source": [
    "import pandas as pd\n",
    "\n",
    "# For CSV files:\n",
    "data = pd.read_csv('spam_ham_dataset.csv')"
   ]
  },
  {
   "cell_type": "code",
   "execution_count": 2,
   "id": "1bbb001a",
   "metadata": {},
   "outputs": [
    {
     "name": "stdout",
     "output_type": "stream",
     "text": [
      "   Unnamed: 0 label                                               text  \\\n",
      "0         605   ham  Subject: enron methanol ; meter # : 988291\\r\\n...   \n",
      "1        2349   ham  Subject: hpl nom for january 9 , 2001\\r\\n( see...   \n",
      "2        3624   ham  Subject: neon retreat\\r\\nho ho ho , we ' re ar...   \n",
      "3        4685  spam  Subject: photoshop , windows , office . cheap ...   \n",
      "4        2030   ham  Subject: re : indian springs\\r\\nthis deal is t...   \n",
      "\n",
      "   label_num  \n",
      "0          0  \n",
      "1          0  \n",
      "2          0  \n",
      "3          1  \n",
      "4          0  \n",
      "label\n",
      "ham     3672\n",
      "spam    1499\n",
      "Name: count, dtype: int64\n"
     ]
    }
   ],
   "source": [
    "print(data.head())\n",
    "print(data['label'].value_counts())"
   ]
  },
  {
   "cell_type": "code",
   "execution_count": 3,
   "id": "19c2203f",
   "metadata": {},
   "outputs": [
    {
     "name": "stdout",
     "output_type": "stream",
     "text": [
      "Index(['text', 'label_num'], dtype='object')\n"
     ]
    }
   ],
   "source": [
    "data = data[['text', 'label_num']]\n",
    "print(data.columns)"
   ]
  },
  {
   "cell_type": "code",
   "execution_count": 4,
   "id": "908f8e5b",
   "metadata": {},
   "outputs": [],
   "source": [
    "texts = data['text'].str.lower().tolist() #This gives you a list of all messages (each row of the column), ready for tokenization."
   ]
  },
  {
   "cell_type": "code",
   "execution_count": 5,
   "id": "e1f4fb19",
   "metadata": {},
   "outputs": [
    {
     "name": "stdout",
     "output_type": "stream",
     "text": [
      "WARNING:tensorflow:From d:\\Annie\\SPAM_DETECTOR\\venv\\Lib\\site-packages\\keras\\src\\losses.py:2976: The name tf.losses.sparse_softmax_cross_entropy is deprecated. Please use tf.compat.v1.losses.sparse_softmax_cross_entropy instead.\n",
      "\n"
     ]
    }
   ],
   "source": [
    "from tensorflow.keras.preprocessing.text import Tokenizer\n",
    "\n",
    "tokenizer = Tokenizer()  # You can set num_words or other params here\n",
    "tokenizer.fit_on_texts(texts)  # Learns the vocabulary from all messages"
   ]
  },
  {
   "cell_type": "code",
   "execution_count": 6,
   "id": "24ff1157",
   "metadata": {},
   "outputs": [
    {
     "data": {
      "text/plain": [
       "57872"
      ]
     },
     "execution_count": 6,
     "metadata": {},
     "output_type": "execute_result"
    }
   ],
   "source": [
    "total_words = len(tokenizer.word_index) + 1\n",
    "total_words"
   ]
  },
  {
   "cell_type": "code",
   "execution_count": 7,
   "id": "9b7a3edc",
   "metadata": {},
   "outputs": [],
   "source": [
    "sequences = tokenizer.texts_to_sequences(texts)"
   ]
  },
  {
   "cell_type": "code",
   "execution_count": 8,
   "id": "fd622495",
   "metadata": {},
   "outputs": [
    {
     "name": "stdout",
     "output_type": "stream",
     "text": [
      "subject: enron methanol ; meter # : 988291\n",
      "this is a follow up to the note i gave you on monday , 4 / 3 / 00 { preliminary\n",
      "flow data provided by daren } .\n",
      "please override pop ' s daily volume { presently zero } to reflect daily\n",
      "activity you can obtain from gas control .\n",
      "this change is needed asap for economics purposes .\n",
      "[9, 18, 1043, 44, 13702, 16, 15, 8, 679, 82, 3, 2, 434, 17, 2013, 10, 14, 409, 69, 36, 60, 9840, 176, 479, 687, 35, 54, 1, 33, 8749, 3298, 11, 28, 241, 131, 2151, 655, 3, 1202, 889, 438, 10, 53, 3299, 22, 37, 560, 1, 16, 170, 15, 603, 1610, 6, 4370, 1975]\n"
     ]
    }
   ],
   "source": [
    "print(texts[0])      # \"subject: win a free vacation now!\"\n",
    "print(sequences[0])  # [112, 45, 9, 211, 678, 33]"
   ]
  },
  {
   "cell_type": "code",
   "execution_count": 9,
   "id": "fcf3706f",
   "metadata": {},
   "outputs": [
    {
     "name": "stdout",
     "output_type": "stream",
     "text": [
      "95th percentile max sequence length: 599\n"
     ]
    }
   ],
   "source": [
    "import numpy as np\n",
    "\n",
    "lengths = [len(x) for x in sequences]\n",
    "max_sequence_len = int(np.percentile(lengths, 95))  # 95th percentile length\n",
    "print(f\"95th percentile max sequence length: {max_sequence_len}\")"
   ]
  },
  {
   "cell_type": "code",
   "execution_count": 10,
   "id": "a01ecc94",
   "metadata": {},
   "outputs": [
    {
     "data": {
      "text/plain": [
       "array([[    9,    18,  1043, ...,     0,     0,     0],\n",
       "       [    9,    48,   148, ...,     0,     0,     0],\n",
       "       [    9,  1440, 27147, ...,     0,     0,     0],\n",
       "       ...,\n",
       "       [    9,   704,   241, ...,     0,     0,     0],\n",
       "       [    9,  1064,  9434, ...,     0,     0,     0],\n",
       "       [    9,   907,   330, ...,     0,     0,     0]])"
      ]
     },
     "execution_count": 10,
     "metadata": {},
     "output_type": "execute_result"
    }
   ],
   "source": [
    "from tensorflow.keras.preprocessing.sequence import pad_sequences\n",
    "padded_sequences = pad_sequences(sequences, maxlen=max_sequence_len, padding='post')\n",
    "padded_sequences"
   ]
  },
  {
   "cell_type": "code",
   "execution_count": 11,
   "id": "9daa918b",
   "metadata": {},
   "outputs": [],
   "source": [
    "x = padded_sequences\n",
    "y = data['label_num']"
   ]
  },
  {
   "cell_type": "code",
   "execution_count": 12,
   "id": "0306b5fd",
   "metadata": {},
   "outputs": [],
   "source": [
    "from sklearn.model_selection import train_test_split\n",
    " \n",
    "labels = np.array(data['label_num'])\n",
    "\n",
    "x_train, x_test, y_train, y_test = train_test_split(\n",
    "    x,y, test_size=0.2, random_state=42\n",
    ")"
   ]
  },
  {
   "cell_type": "code",
   "execution_count": 13,
   "id": "acc4081c",
   "metadata": {},
   "outputs": [],
   "source": [
    "# Define early stopping\n",
    "from tensorflow.keras.callbacks import EarlyStopping\n",
    "early_stopping = EarlyStopping(monitor='val_loss', patience=3, restore_best_weights=True)"
   ]
  },
  {
   "cell_type": "code",
   "execution_count": 14,
   "id": "5b25d464",
   "metadata": {},
   "outputs": [],
   "source": [
    "import tensorflow\n",
    "\n",
    "opt = tensorflow.keras.optimizers.Adam(learning_rate=0.001)\n",
    "loss = tensorflow.keras.losses.BinaryCrossentropy() "
   ]
  },
  {
   "cell_type": "code",
   "execution_count": 15,
   "id": "859c8c91",
   "metadata": {},
   "outputs": [
    {
     "name": "stdout",
     "output_type": "stream",
     "text": [
      "WARNING:tensorflow:From d:\\Annie\\SPAM_DETECTOR\\venv\\Lib\\site-packages\\keras\\src\\backend.py:873: The name tf.get_default_graph is deprecated. Please use tf.compat.v1.get_default_graph instead.\n",
      "\n",
      "Model: \"sequential\"\n",
      "_________________________________________________________________\n",
      " Layer (type)                Output Shape              Param #   \n",
      "=================================================================\n",
      " embedding (Embedding)       (None, 599, 100)          5787200   \n",
      "                                                                 \n",
      " lstm (LSTM)                 (None, 599, 150)          150600    \n",
      "                                                                 \n",
      " dropout (Dropout)           (None, 599, 150)          0         \n",
      "                                                                 \n",
      " lstm_1 (LSTM)               (None, 100)               100400    \n",
      "                                                                 \n",
      " dense (Dense)               (None, 1)                 101       \n",
      "                                                                 \n",
      "=================================================================\n",
      "Total params: 6038301 (23.03 MB)\n",
      "Trainable params: 6038301 (23.03 MB)\n",
      "Non-trainable params: 0 (0.00 Byte)\n",
      "_________________________________________________________________\n"
     ]
    }
   ],
   "source": [
    "## Train our LSTM RNN\n",
    "\n",
    "from tensorflow.keras.models import Sequential\n",
    "from tensorflow.keras.layers import Embedding,LSTM,Dense,Dropout,GRU\n",
    "\n",
    "## Define the model\n",
    "model=Sequential()\n",
    "model.add(Embedding(input_dim=total_words,output_dim=100,input_length=max_sequence_len))\n",
    "model.add(LSTM(150,return_sequences=True))\n",
    "model.add(Dropout(0.2))\n",
    "model.add(LSTM(100))\n",
    "model.add(Dense(1,activation=\"sigmoid\"))\n",
    "\n",
    "# #Compile the model\n",
    "model.compile(loss=loss,optimizer=opt,metrics=['accuracy'])\n",
    "model.summary()"
   ]
  },
  {
   "cell_type": "code",
   "execution_count": 16,
   "id": "08b7b3b1",
   "metadata": {},
   "outputs": [],
   "source": [
    "from sklearn.utils import class_weight\n",
    "\n",
    "\n",
    "class_weights = class_weight.compute_class_weight(\n",
    "    class_weight='balanced',\n",
    "    classes=np.unique(y_train),\n",
    "    y=y_train\n",
    ")\n",
    "class_weights = dict(enumerate(class_weights))"
   ]
  },
  {
   "cell_type": "code",
   "execution_count": 23,
   "id": "b77fef71",
   "metadata": {},
   "outputs": [
    {
     "name": "stdout",
     "output_type": "stream",
     "text": [
      "Epoch 1/20\n",
      "130/130 [==============================] - 215s 2s/step - loss: 0.0935 - accuracy: 0.9732 - val_loss: 0.1549 - val_accuracy: 0.9643\n",
      "Epoch 2/20\n",
      "130/130 [==============================] - 340s 3s/step - loss: 0.0715 - accuracy: 0.9857 - val_loss: 0.1471 - val_accuracy: 0.9556\n",
      "Epoch 3/20\n",
      "130/130 [==============================] - 457s 4s/step - loss: 0.0983 - accuracy: 0.9853 - val_loss: 0.1906 - val_accuracy: 0.9614\n",
      "Epoch 4/20\n",
      "130/130 [==============================] - 472s 4s/step - loss: 0.0558 - accuracy: 0.9927 - val_loss: 0.2318 - val_accuracy: 0.9507\n",
      "Epoch 5/20\n",
      "130/130 [==============================] - 462s 4s/step - loss: 0.0536 - accuracy: 0.9932 - val_loss: 0.2367 - val_accuracy: 0.9507\n"
     ]
    }
   ],
   "source": [
    "## Train the model\n",
    "history=model.fit(x_train,y_train,epochs=20,batch_size=32,validation_data=(x_test,y_test),verbose=1,callbacks=[early_stopping],class_weight=class_weights  )"
   ]
  },
  {
   "cell_type": "code",
   "execution_count": 24,
   "id": "330e22b3",
   "metadata": {},
   "outputs": [
    {
     "name": "stdout",
     "output_type": "stream",
     "text": [
      "33/33 [==============================] - 16s 478ms/step\n",
      "              precision    recall  f1-score   support\n",
      "\n",
      "           0       0.98      0.95      0.97       742\n",
      "           1       0.89      0.96      0.92       293\n",
      "\n",
      "    accuracy                           0.96      1035\n",
      "   macro avg       0.94      0.96      0.95      1035\n",
      "weighted avg       0.96      0.96      0.96      1035\n",
      "\n"
     ]
    }
   ],
   "source": [
    "from sklearn.metrics import classification_report\n",
    "\n",
    "y_pred_probs = model.predict(x_test)\n",
    "y_pred = (y_pred_probs > 0.5).astype(int).flatten()\n",
    "\n",
    "print(classification_report(y_test, y_pred))"
   ]
  },
  {
   "cell_type": "code",
   "execution_count": 32,
   "id": "e2058b52",
   "metadata": {},
   "outputs": [],
   "source": [
    "from tensorflow.keras.preprocessing.sequence import pad_sequences\n",
    "\n",
    "def predict_message(message, tokenizer, model, max_len):\n",
    "    if not message.strip():\n",
    "        print(\"Empty message provided.\")\n",
    "        return \"Invalid Input\", 0.0\n",
    "    # Preprocess the input\n",
    "    message = message.lower()\n",
    "    seq = tokenizer.texts_to_sequences([message])\n",
    "    padded = pad_sequences(seq, maxlen=max_len, padding='post')\n",
    "\n",
    "    # Make prediction\n",
    "    prob = model.predict(padded, verbose=0)[0][0]\n",
    "    label = \"Spam\" if prob > 0.4 else \"Not Spam\"\n",
    "\n",
    "    print(f\"Prediction: {label} (Confidence: {prob:.4f})\")\n",
    "    return label, prob\n"
   ]
  },
  {
   "cell_type": "code",
   "execution_count": 33,
   "id": "45261edc",
   "metadata": {},
   "outputs": [
    {
     "name": "stdout",
     "output_type": "stream",
     "text": [
      "Prediction: Spam (Confidence: 0.5366)\n",
      "Prediction: Not Spam (Confidence: 0.0079)\n"
     ]
    },
    {
     "data": {
      "text/plain": [
       "('Not Spam', 0.007918094)"
      ]
     },
     "execution_count": 33,
     "metadata": {},
     "output_type": "execute_result"
    }
   ],
   "source": [
    "predict_message(\"Congratulations! You've won a free iPhone!\", tokenizer, model, max_sequence_len)\n",
    "predict_message(\"Hey, are we still on for the meeting tomorrow?\", tokenizer, model, max_sequence_len)\n"
   ]
  },
  {
   "cell_type": "code",
   "execution_count": 34,
   "id": "665847f0",
   "metadata": {},
   "outputs": [
    {
     "name": "stdout",
     "output_type": "stream",
     "text": [
      "Prediction: Spam (Confidence: 0.4551)\n"
     ]
    },
    {
     "data": {
      "text/plain": [
       "('Spam', 0.45505035)"
      ]
     },
     "execution_count": 34,
     "metadata": {},
     "output_type": "execute_result"
    }
   ],
   "source": [
    "predict_message(\"You have WON a FREE vacation! Click now!\", tokenizer, model, max_sequence_len)\n"
   ]
  },
  {
   "cell_type": "code",
   "execution_count": 29,
   "id": "a5f79e3a",
   "metadata": {},
   "outputs": [
    {
     "name": "stdout",
     "output_type": "stream",
     "text": [
      "label_num\n",
      "0    3672\n",
      "1    1499\n",
      "Name: count, dtype: int64\n"
     ]
    }
   ],
   "source": [
    "print(data['label_num'].value_counts())"
   ]
  },
  {
   "cell_type": "code",
   "execution_count": 35,
   "id": "eb8038bf",
   "metadata": {},
   "outputs": [
    {
     "name": "stderr",
     "output_type": "stream",
     "text": [
      "d:\\Annie\\SPAM_DETECTOR\\venv\\Lib\\site-packages\\keras\\src\\engine\\training.py:3103: UserWarning: You are saving your model as an HDF5 file via `model.save()`. This file format is considered legacy. We recommend using instead the native Keras format, e.g. `model.save('my_model.keras')`.\n",
      "  saving_api.save_model(\n"
     ]
    }
   ],
   "source": [
    "model.save(\"spam_classifier_model.h5\")"
   ]
  },
  {
   "cell_type": "code",
   "execution_count": 38,
   "id": "4a26ff3f",
   "metadata": {},
   "outputs": [],
   "source": [
    "import pickle\n",
    "\n",
    "with open('tokenizer.pkl', 'wb') as handle:\n",
    "    pickle.dump(tokenizer, handle, protocol=pickle.HIGHEST_PROTOCOL)"
   ]
  },
  {
   "cell_type": "code",
   "execution_count": 39,
   "id": "885a1285",
   "metadata": {},
   "outputs": [],
   "source": [
    "import json\n",
    "\n",
    "# Save\n",
    "with open(\"config.json\", \"w\") as f:\n",
    "    json.dump({\"max_sequence_len\": max_sequence_len}, f)"
   ]
  },
  {
   "cell_type": "code",
   "execution_count": 40,
   "id": "12862f61",
   "metadata": {},
   "outputs": [
    {
     "name": "stdout",
     "output_type": "stream",
     "text": [
      "33/33 [==============================] - 42s 912ms/step\n"
     ]
    },
    {
     "data": {
      "image/png": "[encoded data removed]",
      "text/plain": [
       "<Figure size 600x500 with 1 Axes>"
      ]
     },
     "metadata": {},
     "output_type": "display_data"
    }
   ],
   "source": [
    "from sklearn.metrics import roc_curve, auc\n",
    "import matplotlib.pyplot as plt\n",
    "\n",
    "# Get the predicted probabilities\n",
    "y_pred_probs = model.predict(x_test).ravel()\n",
    "\n",
    "# Compute ROC curve and AUC\n",
    "fpr, tpr, thresholds = roc_curve(y_test, y_pred_probs)\n",
    "roc_auc = auc(fpr, tpr)\n",
    "\n",
    "# Plot\n",
    "plt.figure(figsize=(6, 5))\n",
    "plt.plot(fpr, tpr, label=f\"ROC Curve (AUC = {roc_auc:.2f})\")\n",
    "plt.plot([0, 1], [0, 1], linestyle=\"--\", color=\"gray\")\n",
    "plt.xlabel(\"False Positive Rate\")\n",
    "plt.ylabel(\"True Positive Rate\")\n",
    "plt.title(\"Receiver Operating Characteristic (ROC) Curve\")\n",
    "plt.legend(loc=\"lower right\")\n",
    "plt.grid(True)\n",
    "plt.show()"
   ]
  },
  {
   "cell_type": "code",
   "execution_count": 41,
   "id": "2fb31aa2",
   "metadata": {},
   "outputs": [
    {
     "data": {
      "image/png": "[encoded data removed]",
      "text/plain": [
       "<Figure size 600x500 with 1 Axes>"
      ]
     },
     "metadata": {},
     "output_type": "display_data"
    }
   ],
   "source": [
    "from sklearn.metrics import precision_recall_curve, average_precision_score\n",
    "\n",
    "# Compute precision-recall pairs and AUC\n",
    "precision, recall, thresholds = precision_recall_curve(y_test, y_pred_probs)\n",
    "pr_auc = average_precision_score(y_test, y_pred_probs)\n",
    "\n",
    "# Plot\n",
    "plt.figure(figsize=(6, 5))\n",
    "plt.plot(recall, precision, label=f\"PR Curve (AUC = {pr_auc:.2f})\")\n",
    "plt.xlabel(\"Recall\")\n",
    "plt.ylabel(\"Precision\")\n",
    "plt.title(\"Precision-Recall (PR) Curve\")\n",
    "plt.legend(loc=\"lower left\")\n",
    "plt.grid(True)\n",
    "plt.show()\n"
   ]
  }
 ],
 "metadata": {
  "kernelspec": {
   "display_name": "Python 3",
   "language": "python",
   "name": "python3"
  },
  "language_info": {
   "codemirror_mode": {
    "name": "ipython",
    "version": 3
   },
   "file_extension": ".py",
   "mimetype": "text/x-python",
   "name": "python",
   "nbconvert_exporter": "python",
   "pygments_lexer": "ipython3",
   "version": "3.11.13"
  }
 },
 "nbformat": 4,
 "nbformat_minor": 5
}
